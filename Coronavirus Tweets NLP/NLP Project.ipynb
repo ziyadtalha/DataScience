{
 "cells": [
  {
   "cell_type": "code",
   "execution_count": 1,
   "id": "6d380702-af78-41af-899d-99f52c26c79c",
   "metadata": {
    "id": "6d380702-af78-41af-899d-99f52c26c79c"
   },
   "outputs": [],
   "source": [
    "import pandas as pd\n",
    "import seaborn as sns\n",
    "import matplotlib.pyplot as plt\n",
    "import numpy as np\n",
    "import re\n",
    "import nltk\n",
    "from nltk.tokenize import word_tokenize\n",
    "from nltk.corpus import stopwords\n",
    "from nltk.stem import WordNetLemmatizer\n",
    "from keras.preprocessing.sequence import pad_sequences\n",
    "from keras.models import Sequential\n",
    "from keras.layers import Embedding, LSTM, Dense, Dropout\n",
    "from keras.layers import Input,Embedding, Dropout,Bidirectional, LSTM, Dense\n",
    "from keras.callbacks import ModelCheckpoint, EarlyStopping\n",
    "from sklearn.preprocessing import LabelEncoder\n",
    "from tensorflow.keras.preprocessing.text import Tokenizer\n",
    "from keras.callbacks import EarlyStopping\n",
    "from keras.callbacks import ModelCheckpoint"
   ]
  },
  {
   "cell_type": "code",
   "execution_count": 2,
   "id": "c24c3c9a-8051-484a-a397-3f0b3f480656",
   "metadata": {},
   "outputs": [
    {
     "name": "stdout",
     "output_type": "stream",
     "text": [
      "Requirement already satisfied: tensorflow in c:\\users\\z\\anaconda3\\lib\\site-packages (2.16.1)\n",
      "Requirement already satisfied: tensorflow-intel==2.16.1 in c:\\users\\z\\anaconda3\\lib\\site-packages (from tensorflow) (2.16.1)\n",
      "Requirement already satisfied: absl-py>=1.0.0 in c:\\users\\z\\anaconda3\\lib\\site-packages (from tensorflow-intel==2.16.1->tensorflow) (2.1.0)\n",
      "Requirement already satisfied: astunparse>=1.6.0 in c:\\users\\z\\anaconda3\\lib\\site-packages (from tensorflow-intel==2.16.1->tensorflow) (1.6.3)\n",
      "Requirement already satisfied: flatbuffers>=23.5.26 in c:\\users\\z\\anaconda3\\lib\\site-packages (from tensorflow-intel==2.16.1->tensorflow) (24.3.25)\n",
      "Requirement already satisfied: gast!=0.5.0,!=0.5.1,!=0.5.2,>=0.2.1 in c:\\users\\z\\anaconda3\\lib\\site-packages (from tensorflow-intel==2.16.1->tensorflow) (0.5.4)\n",
      "Requirement already satisfied: google-pasta>=0.1.1 in c:\\users\\z\\anaconda3\\lib\\site-packages (from tensorflow-intel==2.16.1->tensorflow) (0.2.0)\n",
      "Requirement already satisfied: h5py>=3.10.0 in c:\\users\\z\\anaconda3\\lib\\site-packages (from tensorflow-intel==2.16.1->tensorflow) (3.11.0)\n",
      "Requirement already satisfied: libclang>=13.0.0 in c:\\users\\z\\anaconda3\\lib\\site-packages (from tensorflow-intel==2.16.1->tensorflow) (18.1.1)\n",
      "Requirement already satisfied: ml-dtypes~=0.3.1 in c:\\users\\z\\anaconda3\\lib\\site-packages (from tensorflow-intel==2.16.1->tensorflow) (0.3.2)\n",
      "Requirement already satisfied: opt-einsum>=2.3.2 in c:\\users\\z\\anaconda3\\lib\\site-packages (from tensorflow-intel==2.16.1->tensorflow) (3.3.0)\n",
      "Requirement already satisfied: packaging in c:\\users\\z\\anaconda3\\lib\\site-packages (from tensorflow-intel==2.16.1->tensorflow) (23.1)\n",
      "Requirement already satisfied: protobuf!=4.21.0,!=4.21.1,!=4.21.2,!=4.21.3,!=4.21.4,!=4.21.5,<5.0.0dev,>=3.20.3 in c:\\users\\z\\anaconda3\\lib\\site-packages (from tensorflow-intel==2.16.1->tensorflow) (3.20.3)\n",
      "Requirement already satisfied: requests<3,>=2.21.0 in c:\\users\\z\\anaconda3\\lib\\site-packages (from tensorflow-intel==2.16.1->tensorflow) (2.31.0)\n",
      "Requirement already satisfied: setuptools in c:\\users\\z\\anaconda3\\lib\\site-packages (from tensorflow-intel==2.16.1->tensorflow) (68.2.2)\n",
      "Requirement already satisfied: six>=1.12.0 in c:\\users\\z\\anaconda3\\lib\\site-packages (from tensorflow-intel==2.16.1->tensorflow) (1.16.0)\n",
      "Requirement already satisfied: termcolor>=1.1.0 in c:\\users\\z\\anaconda3\\lib\\site-packages (from tensorflow-intel==2.16.1->tensorflow) (2.4.0)\n",
      "Requirement already satisfied: typing-extensions>=3.6.6 in c:\\users\\z\\anaconda3\\lib\\site-packages (from tensorflow-intel==2.16.1->tensorflow) (4.9.0)\n",
      "Requirement already satisfied: wrapt>=1.11.0 in c:\\users\\z\\anaconda3\\lib\\site-packages (from tensorflow-intel==2.16.1->tensorflow) (1.14.1)\n",
      "Requirement already satisfied: grpcio<2.0,>=1.24.3 in c:\\users\\z\\anaconda3\\lib\\site-packages (from tensorflow-intel==2.16.1->tensorflow) (1.63.0)\n",
      "Requirement already satisfied: tensorboard<2.17,>=2.16 in c:\\users\\z\\anaconda3\\lib\\site-packages (from tensorflow-intel==2.16.1->tensorflow) (2.16.2)\n",
      "Requirement already satisfied: keras>=3.0.0 in c:\\users\\z\\anaconda3\\lib\\site-packages (from tensorflow-intel==2.16.1->tensorflow) (3.3.3)\n",
      "Requirement already satisfied: tensorflow-io-gcs-filesystem>=0.23.1 in c:\\users\\z\\anaconda3\\lib\\site-packages (from tensorflow-intel==2.16.1->tensorflow) (0.31.0)\n",
      "Requirement already satisfied: numpy<2.0.0,>=1.23.5 in c:\\users\\z\\anaconda3\\lib\\site-packages (from tensorflow-intel==2.16.1->tensorflow) (1.26.4)\n",
      "Requirement already satisfied: wheel<1.0,>=0.23.0 in c:\\users\\z\\anaconda3\\lib\\site-packages (from astunparse>=1.6.0->tensorflow-intel==2.16.1->tensorflow) (0.41.2)\n",
      "Requirement already satisfied: rich in c:\\users\\z\\anaconda3\\lib\\site-packages (from keras>=3.0.0->tensorflow-intel==2.16.1->tensorflow) (13.3.5)\n",
      "Requirement already satisfied: namex in c:\\users\\z\\anaconda3\\lib\\site-packages (from keras>=3.0.0->tensorflow-intel==2.16.1->tensorflow) (0.0.8)\n",
      "Requirement already satisfied: optree in c:\\users\\z\\anaconda3\\lib\\site-packages (from keras>=3.0.0->tensorflow-intel==2.16.1->tensorflow) (0.11.0)\n",
      "Requirement already satisfied: charset-normalizer<4,>=2 in c:\\users\\z\\anaconda3\\lib\\site-packages (from requests<3,>=2.21.0->tensorflow-intel==2.16.1->tensorflow) (2.0.4)\n",
      "Requirement already satisfied: idna<4,>=2.5 in c:\\users\\z\\anaconda3\\lib\\site-packages (from requests<3,>=2.21.0->tensorflow-intel==2.16.1->tensorflow) (3.4)\n",
      "Requirement already satisfied: urllib3<3,>=1.21.1 in c:\\users\\z\\anaconda3\\lib\\site-packages (from requests<3,>=2.21.0->tensorflow-intel==2.16.1->tensorflow) (2.0.7)\n",
      "Requirement already satisfied: certifi>=2017.4.17 in c:\\users\\z\\anaconda3\\lib\\site-packages (from requests<3,>=2.21.0->tensorflow-intel==2.16.1->tensorflow) (2024.2.2)\n",
      "Requirement already satisfied: markdown>=2.6.8 in c:\\users\\z\\anaconda3\\lib\\site-packages (from tensorboard<2.17,>=2.16->tensorflow-intel==2.16.1->tensorflow) (3.4.1)\n",
      "Requirement already satisfied: tensorboard-data-server<0.8.0,>=0.7.0 in c:\\users\\z\\anaconda3\\lib\\site-packages (from tensorboard<2.17,>=2.16->tensorflow-intel==2.16.1->tensorflow) (0.7.2)\n",
      "Requirement already satisfied: werkzeug>=1.0.1 in c:\\users\\z\\anaconda3\\lib\\site-packages (from tensorboard<2.17,>=2.16->tensorflow-intel==2.16.1->tensorflow) (2.2.3)\n",
      "Requirement already satisfied: MarkupSafe>=2.1.1 in c:\\users\\z\\anaconda3\\lib\\site-packages (from werkzeug>=1.0.1->tensorboard<2.17,>=2.16->tensorflow-intel==2.16.1->tensorflow) (2.1.3)\n",
      "Requirement already satisfied: markdown-it-py<3.0.0,>=2.2.0 in c:\\users\\z\\anaconda3\\lib\\site-packages (from rich->keras>=3.0.0->tensorflow-intel==2.16.1->tensorflow) (2.2.0)\n",
      "Requirement already satisfied: pygments<3.0.0,>=2.13.0 in c:\\users\\z\\anaconda3\\lib\\site-packages (from rich->keras>=3.0.0->tensorflow-intel==2.16.1->tensorflow) (2.15.1)\n",
      "Requirement already satisfied: mdurl~=0.1 in c:\\users\\z\\anaconda3\\lib\\site-packages (from markdown-it-py<3.0.0,>=2.2.0->rich->keras>=3.0.0->tensorflow-intel==2.16.1->tensorflow) (0.1.0)\n",
      "Note: you may need to restart the kernel to use updated packages.\n"
     ]
    }
   ],
   "source": [
    "pip install tensorflow"
   ]
  },
  {
   "cell_type": "markdown",
   "id": "42c99e08-b5d9-45bf-93a4-907de1a614ce",
   "metadata": {
    "id": "42c99e08-b5d9-45bf-93a4-907de1a614ce"
   },
   "source": [
    "# UTILITY FUNCTIONS FOR PREPROCESSING AND OTHER TASKS"
   ]
  },
  {
   "cell_type": "code",
   "execution_count": 113,
   "id": "065605b6-f21e-44a0-8b5c-0861e9c8dd2a",
   "metadata": {
    "id": "065605b6-f21e-44a0-8b5c-0861e9c8dd2a"
   },
   "outputs": [],
   "source": [
    "def preprocess_tweet(text):\n",
    "    #Convert to lowercasetext = text.lower();\n",
    "    text=text.lower();\n",
    "    #Regex to remove unecessary charcters\n",
    "    text = re.sub(r'http\\S+|[^a-zA-Z\\s]', '', text).strip()\n",
    "    # Tokenization\n",
    "    tokens = word_tokenize(text)\n",
    "    # Remove stopwords\n",
    "    stop_words = set(stopwords.words('english'))\n",
    "    tokens = [word for word in tokens if word not in stop_words]\n",
    "    # Lemmatization\n",
    "    lemmatizer = WordNetLemmatizer()\n",
    "    tokens = [lemmatizer.lemmatize(word) for word in tokens]\n",
    "    # Join the processed tokens back into a text string\n",
    "    processed_text = ' '.join(tokens)\n",
    "    return processed_text\n"
   ]
  },
  {
   "cell_type": "markdown",
   "id": "e59cadeb-61c5-4dad-96de-473bdcbc2923",
   "metadata": {
    "id": "e59cadeb-61c5-4dad-96de-473bdcbc2923"
   },
   "source": [
    "# Loading Data\n"
   ]
  },
  {
   "cell_type": "code",
   "execution_count": 17,
   "id": "7bVOAEAKeB7W",
   "metadata": {
    "colab": {
     "base_uri": "https://localhost:8080/"
    },
    "id": "7bVOAEAKeB7W",
    "outputId": "9ff69ece-6aa7-4054-de80-de1553d49cd8"
   },
   "outputs": [
    {
     "ename": "ModuleNotFoundError",
     "evalue": "No module named 'google.colab'",
     "output_type": "error",
     "traceback": [
      "\u001b[1;31m---------------------------------------------------------------------------\u001b[0m",
      "\u001b[1;31mModuleNotFoundError\u001b[0m                       Traceback (most recent call last)",
      "Cell \u001b[1;32mIn[17], line 1\u001b[0m\n\u001b[1;32m----> 1\u001b[0m \u001b[38;5;28;01mfrom\u001b[39;00m \u001b[38;5;21;01mgoogle\u001b[39;00m\u001b[38;5;21;01m.\u001b[39;00m\u001b[38;5;21;01mcolab\u001b[39;00m \u001b[38;5;28;01mimport\u001b[39;00m drive\n\u001b[0;32m      2\u001b[0m drive\u001b[38;5;241m.\u001b[39mmount(\u001b[38;5;124m'\u001b[39m\u001b[38;5;124m/content/drive\u001b[39m\u001b[38;5;124m'\u001b[39m)\n\u001b[0;32m      4\u001b[0m train_df\u001b[38;5;241m=\u001b[39mpd\u001b[38;5;241m.\u001b[39mread_csv(\u001b[38;5;124m\"\u001b[39m\u001b[38;5;124m/content/drive/MyDrive/Colab Notebooks/NLP/Corona_NLP_train.csv\u001b[39m\u001b[38;5;124m\"\u001b[39m,encoding\u001b[38;5;241m=\u001b[39m\u001b[38;5;124m'\u001b[39m\u001b[38;5;124mlatin1\u001b[39m\u001b[38;5;124m'\u001b[39m)\n",
      "\u001b[1;31mModuleNotFoundError\u001b[0m: No module named 'google.colab'"
     ]
    }
   ],
   "source": [
    "from google.colab import drive\n",
    "drive.mount('/content/drive')\n",
    "\n",
    "train_df=pd.read_csv(\"/content/drive/MyDrive/Colab Notebooks/NLP/Corona_NLP_train.csv\",encoding='latin1')\n",
    "\n",
    "test_df=pd.read_csv(\"/content/drive/MyDrive/Colab Notebooks/NLP/Corona_NLP_test.csv\",encoding='latin1')"
   ]
  },
  {
   "cell_type": "code",
   "execution_count": 114,
   "id": "c1212337-96ba-4a35-9cd1-1c12667c0856",
   "metadata": {
    "colab": {
     "base_uri": "https://localhost:8080/",
     "height": 206
    },
    "id": "c1212337-96ba-4a35-9cd1-1c12667c0856",
    "outputId": "2e55c8d7-2d23-42c0-ed1c-ca6968cf3cd3"
   },
   "outputs": [
    {
     "data": {
      "text/html": [
       "<div>\n",
       "<style scoped>\n",
       "    .dataframe tbody tr th:only-of-type {\n",
       "        vertical-align: middle;\n",
       "    }\n",
       "\n",
       "    .dataframe tbody tr th {\n",
       "        vertical-align: top;\n",
       "    }\n",
       "\n",
       "    .dataframe thead th {\n",
       "        text-align: right;\n",
       "    }\n",
       "</style>\n",
       "<table border=\"1\" class=\"dataframe\">\n",
       "  <thead>\n",
       "    <tr style=\"text-align: right;\">\n",
       "      <th></th>\n",
       "      <th>UserName</th>\n",
       "      <th>ScreenName</th>\n",
       "      <th>Location</th>\n",
       "      <th>TweetAt</th>\n",
       "      <th>OriginalTweet</th>\n",
       "      <th>Sentiment</th>\n",
       "    </tr>\n",
       "  </thead>\n",
       "  <tbody>\n",
       "    <tr>\n",
       "      <th>0</th>\n",
       "      <td>3799</td>\n",
       "      <td>48751</td>\n",
       "      <td>London</td>\n",
       "      <td>16-03-2020</td>\n",
       "      <td>@MeNyrbie @Phil_Gahan @Chrisitv https://t.co/i...</td>\n",
       "      <td>Neutral</td>\n",
       "    </tr>\n",
       "    <tr>\n",
       "      <th>1</th>\n",
       "      <td>3800</td>\n",
       "      <td>48752</td>\n",
       "      <td>UK</td>\n",
       "      <td>16-03-2020</td>\n",
       "      <td>advice Talk to your neighbours family to excha...</td>\n",
       "      <td>Positive</td>\n",
       "    </tr>\n",
       "    <tr>\n",
       "      <th>2</th>\n",
       "      <td>3801</td>\n",
       "      <td>48753</td>\n",
       "      <td>Vagabonds</td>\n",
       "      <td>16-03-2020</td>\n",
       "      <td>Coronavirus Australia: Woolworths to give elde...</td>\n",
       "      <td>Positive</td>\n",
       "    </tr>\n",
       "    <tr>\n",
       "      <th>3</th>\n",
       "      <td>3802</td>\n",
       "      <td>48754</td>\n",
       "      <td>NaN</td>\n",
       "      <td>16-03-2020</td>\n",
       "      <td>My food stock is not the only one which is emp...</td>\n",
       "      <td>Positive</td>\n",
       "    </tr>\n",
       "    <tr>\n",
       "      <th>4</th>\n",
       "      <td>3803</td>\n",
       "      <td>48755</td>\n",
       "      <td>NaN</td>\n",
       "      <td>16-03-2020</td>\n",
       "      <td>Me, ready to go at supermarket during the #COV...</td>\n",
       "      <td>Extremely Negative</td>\n",
       "    </tr>\n",
       "  </tbody>\n",
       "</table>\n",
       "</div>"
      ],
      "text/plain": [
       "   UserName  ScreenName   Location     TweetAt  \\\n",
       "0      3799       48751     London  16-03-2020   \n",
       "1      3800       48752         UK  16-03-2020   \n",
       "2      3801       48753  Vagabonds  16-03-2020   \n",
       "3      3802       48754        NaN  16-03-2020   \n",
       "4      3803       48755        NaN  16-03-2020   \n",
       "\n",
       "                                       OriginalTweet           Sentiment  \n",
       "0  @MeNyrbie @Phil_Gahan @Chrisitv https://t.co/i...             Neutral  \n",
       "1  advice Talk to your neighbours family to excha...            Positive  \n",
       "2  Coronavirus Australia: Woolworths to give elde...            Positive  \n",
       "3  My food stock is not the only one which is emp...            Positive  \n",
       "4  Me, ready to go at supermarket during the #COV...  Extremely Negative  "
      ]
     },
     "execution_count": 114,
     "metadata": {},
     "output_type": "execute_result"
    }
   ],
   "source": [
    "train_df=pd.read_csv(\"Corona_NLP_train.csv\", encoding='latin1')\n",
    "\n",
    "train_df.head()"
   ]
  },
  {
   "cell_type": "code",
   "execution_count": 115,
   "id": "dee402c9-6cd1-4c45-b8b6-a69ecc30305a",
   "metadata": {
    "colab": {
     "base_uri": "https://localhost:8080/",
     "height": 206
    },
    "id": "dee402c9-6cd1-4c45-b8b6-a69ecc30305a",
    "outputId": "ccd6974a-942e-4602-c7a0-64102d4a8700"
   },
   "outputs": [
    {
     "data": {
      "text/html": [
       "<div>\n",
       "<style scoped>\n",
       "    .dataframe tbody tr th:only-of-type {\n",
       "        vertical-align: middle;\n",
       "    }\n",
       "\n",
       "    .dataframe tbody tr th {\n",
       "        vertical-align: top;\n",
       "    }\n",
       "\n",
       "    .dataframe thead th {\n",
       "        text-align: right;\n",
       "    }\n",
       "</style>\n",
       "<table border=\"1\" class=\"dataframe\">\n",
       "  <thead>\n",
       "    <tr style=\"text-align: right;\">\n",
       "      <th></th>\n",
       "      <th>UserName</th>\n",
       "      <th>ScreenName</th>\n",
       "      <th>Location</th>\n",
       "      <th>TweetAt</th>\n",
       "      <th>OriginalTweet</th>\n",
       "      <th>Sentiment</th>\n",
       "    </tr>\n",
       "  </thead>\n",
       "  <tbody>\n",
       "    <tr>\n",
       "      <th>0</th>\n",
       "      <td>1</td>\n",
       "      <td>44953</td>\n",
       "      <td>NYC</td>\n",
       "      <td>02-03-2020</td>\n",
       "      <td>TRENDING: New Yorkers encounter empty supermar...</td>\n",
       "      <td>Extremely Negative</td>\n",
       "    </tr>\n",
       "    <tr>\n",
       "      <th>1</th>\n",
       "      <td>2</td>\n",
       "      <td>44954</td>\n",
       "      <td>Seattle, WA</td>\n",
       "      <td>02-03-2020</td>\n",
       "      <td>When I couldn't find hand sanitizer at Fred Me...</td>\n",
       "      <td>Positive</td>\n",
       "    </tr>\n",
       "    <tr>\n",
       "      <th>2</th>\n",
       "      <td>3</td>\n",
       "      <td>44955</td>\n",
       "      <td>NaN</td>\n",
       "      <td>02-03-2020</td>\n",
       "      <td>Find out how you can protect yourself and love...</td>\n",
       "      <td>Extremely Positive</td>\n",
       "    </tr>\n",
       "    <tr>\n",
       "      <th>3</th>\n",
       "      <td>4</td>\n",
       "      <td>44956</td>\n",
       "      <td>Chicagoland</td>\n",
       "      <td>02-03-2020</td>\n",
       "      <td>#Panic buying hits #NewYork City as anxious sh...</td>\n",
       "      <td>Negative</td>\n",
       "    </tr>\n",
       "    <tr>\n",
       "      <th>4</th>\n",
       "      <td>5</td>\n",
       "      <td>44957</td>\n",
       "      <td>Melbourne, Victoria</td>\n",
       "      <td>03-03-2020</td>\n",
       "      <td>#toiletpaper #dunnypaper #coronavirus #coronav...</td>\n",
       "      <td>Neutral</td>\n",
       "    </tr>\n",
       "  </tbody>\n",
       "</table>\n",
       "</div>"
      ],
      "text/plain": [
       "   UserName  ScreenName             Location     TweetAt  \\\n",
       "0         1       44953                  NYC  02-03-2020   \n",
       "1         2       44954          Seattle, WA  02-03-2020   \n",
       "2         3       44955                  NaN  02-03-2020   \n",
       "3         4       44956          Chicagoland  02-03-2020   \n",
       "4         5       44957  Melbourne, Victoria  03-03-2020   \n",
       "\n",
       "                                       OriginalTweet           Sentiment  \n",
       "0  TRENDING: New Yorkers encounter empty supermar...  Extremely Negative  \n",
       "1  When I couldn't find hand sanitizer at Fred Me...            Positive  \n",
       "2  Find out how you can protect yourself and love...  Extremely Positive  \n",
       "3  #Panic buying hits #NewYork City as anxious sh...            Negative  \n",
       "4  #toiletpaper #dunnypaper #coronavirus #coronav...             Neutral  "
      ]
     },
     "execution_count": 115,
     "metadata": {},
     "output_type": "execute_result"
    }
   ],
   "source": [
    "test_df=pd.read_csv(\"Corona_NLP_test.csv\", encoding='latin1')\n",
    "\n",
    "test_df.head()"
   ]
  },
  {
   "cell_type": "code",
   "execution_count": 32,
   "id": "6d74ce2a-241b-4df1-8ff4-15001b6943f2",
   "metadata": {
    "colab": {
     "base_uri": "https://localhost:8080/"
    },
    "id": "6d74ce2a-241b-4df1-8ff4-15001b6943f2",
    "outputId": "5b539427-7c46-4991-8290-c88382eb51b0"
   },
   "outputs": [
    {
     "name": "stdout",
     "output_type": "stream",
     "text": [
      "Information about Training Data\n",
      "\n",
      "<class 'pandas.core.frame.DataFrame'>\n",
      "RangeIndex: 41157 entries, 0 to 41156\n",
      "Data columns (total 6 columns):\n",
      " #   Column         Non-Null Count  Dtype \n",
      "---  ------         --------------  ----- \n",
      " 0   UserName       41157 non-null  int64 \n",
      " 1   ScreenName     41157 non-null  int64 \n",
      " 2   Location       32567 non-null  object\n",
      " 3   TweetAt        41157 non-null  object\n",
      " 4   OriginalTweet  41157 non-null  object\n",
      " 5   Sentiment      41157 non-null  object\n",
      "dtypes: int64(2), object(4)\n",
      "memory usage: 1.9+ MB\n",
      "Information about Testing Data\n",
      "\n",
      "<class 'pandas.core.frame.DataFrame'>\n",
      "RangeIndex: 3798 entries, 0 to 3797\n",
      "Data columns (total 6 columns):\n",
      " #   Column         Non-Null Count  Dtype \n",
      "---  ------         --------------  ----- \n",
      " 0   UserName       3798 non-null   int64 \n",
      " 1   ScreenName     3798 non-null   int64 \n",
      " 2   Location       2964 non-null   object\n",
      " 3   TweetAt        3798 non-null   object\n",
      " 4   OriginalTweet  3798 non-null   object\n",
      " 5   Sentiment      3798 non-null   object\n",
      "dtypes: int64(2), object(4)\n",
      "memory usage: 178.2+ KB\n"
     ]
    }
   ],
   "source": [
    "print(\"Information about Training Data\\n\")\n",
    "train_df.info()\n",
    "\n",
    "print(\"Information about Testing Data\\n\")\n",
    "test_df.info()"
   ]
  },
  {
   "cell_type": "code",
   "execution_count": null,
   "id": "4c08c832-e325-413c-b101-3b03b7b8725a",
   "metadata": {
    "colab": {
     "base_uri": "https://localhost:8080/"
    },
    "id": "4c08c832-e325-413c-b101-3b03b7b8725a",
    "outputId": "7102ade7-fb0d-4f9b-86e3-1c6c9540f410"
   },
   "outputs": [],
   "source": [
    "print(\"Training Shape: \", train_df.shape)\n",
    "print(\"Testing Shape: \", test_df.shape)"
   ]
  },
  {
   "cell_type": "code",
   "execution_count": null,
   "id": "2914835d-2407-4a09-a1d7-68dbe1b13c5f",
   "metadata": {
    "colab": {
     "base_uri": "https://localhost:8080/"
    },
    "id": "2914835d-2407-4a09-a1d7-68dbe1b13c5f",
    "outputId": "c3cc75e5-7e9e-43fb-8fff-2ec0581bb474"
   },
   "outputs": [],
   "source": [
    "df = pd.concat([train_df, test_df])\n",
    "df.columns"
   ]
  },
  {
   "cell_type": "markdown",
   "id": "51a9908a-c777-4d50-8f31-89abcb8bd5a0",
   "metadata": {
    "id": "51a9908a-c777-4d50-8f31-89abcb8bd5a0"
   },
   "source": [
    "# Pre-Processing Data"
   ]
  },
  {
   "cell_type": "code",
   "execution_count": 33,
   "id": "f3c04db8-3b15-4835-ae7d-e01c035bcab8",
   "metadata": {
    "colab": {
     "base_uri": "https://localhost:8080/"
    },
    "id": "f3c04db8-3b15-4835-ae7d-e01c035bcab8",
    "outputId": "fb5c5ce3-b572-4379-8773-09253025b502"
   },
   "outputs": [
    {
     "data": {
      "text/plain": [
       "UserName           0\n",
       "ScreenName         0\n",
       "Location         834\n",
       "TweetAt            0\n",
       "OriginalTweet      0\n",
       "Sentiment          0\n",
       "dtype: int64"
      ]
     },
     "execution_count": 33,
     "metadata": {},
     "output_type": "execute_result"
    }
   ],
   "source": [
    "test_df.isnull().sum()"
   ]
  },
  {
   "cell_type": "code",
   "execution_count": 116,
   "id": "0078cd3e-6ce1-481b-adf1-68167b80d4bf",
   "metadata": {
    "colab": {
     "base_uri": "https://localhost:8080/"
    },
    "id": "0078cd3e-6ce1-481b-adf1-68167b80d4bf",
    "outputId": "be90a145-735d-4bf5-c655-d7b5cc46620b"
   },
   "outputs": [
    {
     "name": "stdout",
     "output_type": "stream",
     "text": [
      "UserName         0\n",
      "ScreenName       0\n",
      "Location         0\n",
      "TweetAt          0\n",
      "OriginalTweet    0\n",
      "Sentiment        0\n",
      "dtype: int64\n",
      "UserName         0\n",
      "ScreenName       0\n",
      "Location         0\n",
      "TweetAt          0\n",
      "OriginalTweet    0\n",
      "Sentiment        0\n",
      "dtype: int64\n"
     ]
    }
   ],
   "source": [
    "#missing values in lOCATION replaced with string 'Unknown'\n",
    "test_df['Location'].fillna('Unknown', inplace=True)\n",
    "\n",
    "train_df['Location'].fillna('Unknown', inplace=True)\n",
    "\n",
    "print(test_df.isnull().sum())\n",
    "\n",
    "print(train_df.isnull().sum())"
   ]
  },
  {
   "cell_type": "code",
   "execution_count": 118,
   "id": "58b5c8f9-6e80-49f4-935e-8510cce775b9",
   "metadata": {
    "colab": {
     "base_uri": "https://localhost:8080/",
     "height": 1000
    },
    "id": "58b5c8f9-6e80-49f4-935e-8510cce775b9",
    "outputId": "8becce0b-2c9a-4e11-f0bd-8efc713881bc"
   },
   "outputs": [
    {
     "data": {
      "image/png": "[encoded data removed]",
      "text/plain": [
       "<Figure size 1000x600 with 1 Axes>"
      ]
     },
     "metadata": {},
     "output_type": "display_data"
    },
    {
     "data": {
      "image/png": "[encoded data removed]",
      "text/plain": [
       "<Figure size 1000x600 with 1 Axes>"
      ]
     },
     "metadata": {},
     "output_type": "display_data"
    }
   ],
   "source": [
    "numerical = list(train_df.select_dtypes(include=['int64', 'float64']).columns)\n",
    "\n",
    "# Boxplot for each variable in numerical list\n",
    "\n",
    "for col in numerical:\n",
    "    plt.figure(figsize=(10, 6))\n",
    "    sns.boxplot(x=train_df[col])\n",
    "    plt.title(f'Boxplot of {col}')\n",
    "    plt.xlabel(col)\n",
    "    plt.show()"
   ]
  },
  {
   "cell_type": "code",
   "execution_count": 18,
   "id": "bab5824f-b540-44c2-aaaf-907cce46b59e",
   "metadata": {},
   "outputs": [],
   "source": [
    "# def change_sen(sentiment):\n",
    "#     if sentiment == \"Extremely Positive\":\n",
    "#         return 'positive'\n",
    "#     elif sentiment == \"Extremely Negative\":\n",
    "#         return 'negative'\n",
    "#     elif sentiment == \"Positive\":\n",
    "#         return 'positive'\n",
    "#     elif sentiment == \"Negative\":\n",
    "#         return 'negative'\n",
    "#     else:\n",
    "#         return 'netural'\n"
   ]
  },
  {
   "cell_type": "code",
   "execution_count": 19,
   "id": "40ca8e15-1790-4d58-ae58-2a839caa5c9c",
   "metadata": {},
   "outputs": [],
   "source": [
    "# train_df['Sentiment'] = train_df['Sentiment'].apply(lambda x: change_sen(x))\n",
    "# test_df['Sentiment'] = test_df['Sentiment'].apply(lambda x: change_sen(x))"
   ]
  },
  {
   "cell_type": "code",
   "execution_count": 119,
   "id": "c0023dd1-6666-4a0a-8e80-f10ee0e98054",
   "metadata": {
    "colab": {
     "base_uri": "https://localhost:8080/",
     "height": 607
    },
    "id": "c0023dd1-6666-4a0a-8e80-f10ee0e98054",
    "outputId": "7e3fc87a-0370-47bb-ad15-a501ec64764a"
   },
   "outputs": [
    {
     "data": {
      "image/png": "[encoded data removed]",
      "text/plain": [
       "<Figure size 800x600 with 1 Axes>"
      ]
     },
     "metadata": {},
     "output_type": "display_data"
    }
   ],
   "source": [
    "value_counts = train_df['Sentiment'].value_counts()\n",
    "\n",
    "plt.figure(figsize=(8, 6))\n",
    "value_counts.plot(kind='bar', color='skyblue')\n",
    "plt.title('Sentiment')\n",
    "plt.xlabel('Values')\n",
    "plt.ylabel('Frequency')\n",
    "plt.xticks(rotation=45)\n",
    "plt.tight_layout()\n",
    "plt.show()"
   ]
  },
  {
   "cell_type": "code",
   "execution_count": 120,
   "id": "6a336ba2-8dd9-4a34-aa2a-79cfdc4257a5",
   "metadata": {
    "id": "6a336ba2-8dd9-4a34-aa2a-79cfdc4257a5"
   },
   "outputs": [],
   "source": [
    "\n",
    "#drop unecessary columns\n",
    "columns_to_drop = ['UserName', 'ScreenName', 'Location', 'TweetAt']\n",
    "\n",
    "for col in columns_to_drop:\n",
    "    if col in train_df.columns:\n",
    "        train_df.drop(columns=[col], inplace=True)\n",
    "    if col in test_df.columns:\n",
    "        test_df.drop(columns=[col], inplace=True)\n",
    "\n",
    "label_encoder = LabelEncoder()\n",
    "train_df['sentiment_encoded'] = label_encoder.fit_transform(train_df['Sentiment'])\n",
    "#uses same encoding patterns as before\n",
    "test_df['sentiment_encoded'] = label_encoder.transform(test_df['Sentiment'])\n",
    "\n"
   ]
  },
  {
   "cell_type": "code",
   "execution_count": 121,
   "id": "5e53e396-ebcf-4625-9751-d5dc4b723fdc",
   "metadata": {
    "colab": {
     "base_uri": "https://localhost:8080/",
     "height": 564
    },
    "id": "5e53e396-ebcf-4625-9751-d5dc4b723fdc",
    "outputId": "231c1fce-d1cc-406d-966b-ecc0ad215ef0"
   },
   "outputs": [
    {
     "data": {
      "image/png": "[encoded data removed]",
      "text/plain": [
       "<Figure size 1000x600 with 1 Axes>"
      ]
     },
     "metadata": {},
     "output_type": "display_data"
    }
   ],
   "source": [
    "plt.figure(figsize=(10, 6))\n",
    "sns.boxplot(x=train_df['sentiment_encoded'])\n",
    "plt.title('Boxplot of Sentiment Encoded')\n",
    "plt.xlabel(col)\n",
    "plt.show()"
   ]
  },
  {
   "cell_type": "code",
   "execution_count": 122,
   "id": "bceaaa71-9a90-4780-90dc-b13ea3bad565",
   "metadata": {
    "id": "bceaaa71-9a90-4780-90dc-b13ea3bad565"
   },
   "outputs": [],
   "source": [
    "#Applying Preprocessing Steps to our target column\n",
    "\n",
    "train_df[\"Final_Tweet\"]=train_df['OriginalTweet'].apply(preprocess_tweet)\n",
    "\n",
    "test_df[\"Final_Tweet\"]=test_df['OriginalTweet'].apply(preprocess_tweet)"
   ]
  },
  {
   "cell_type": "code",
   "execution_count": 123,
   "id": "b614fa2a-4ebe-443d-8d39-95933c5dfe23",
   "metadata": {
    "colab": {
     "base_uri": "https://localhost:8080/",
     "height": 206
    },
    "id": "b614fa2a-4ebe-443d-8d39-95933c5dfe23",
    "outputId": "c55af4a8-ed8a-4cab-c9c0-1edc66f35cd5"
   },
   "outputs": [
    {
     "data": {
      "text/html": [
       "<div>\n",
       "<style scoped>\n",
       "    .dataframe tbody tr th:only-of-type {\n",
       "        vertical-align: middle;\n",
       "    }\n",
       "\n",
       "    .dataframe tbody tr th {\n",
       "        vertical-align: top;\n",
       "    }\n",
       "\n",
       "    .dataframe thead th {\n",
       "        text-align: right;\n",
       "    }\n",
       "</style>\n",
       "<table border=\"1\" class=\"dataframe\">\n",
       "  <thead>\n",
       "    <tr style=\"text-align: right;\">\n",
       "      <th></th>\n",
       "      <th>OriginalTweet</th>\n",
       "      <th>Sentiment</th>\n",
       "      <th>sentiment_encoded</th>\n",
       "      <th>Final_Tweet</th>\n",
       "    </tr>\n",
       "  </thead>\n",
       "  <tbody>\n",
       "    <tr>\n",
       "      <th>0</th>\n",
       "      <td>@MeNyrbie @Phil_Gahan @Chrisitv https://t.co/i...</td>\n",
       "      <td>Neutral</td>\n",
       "      <td>3</td>\n",
       "      <td>menyrbie philgahan chrisitv</td>\n",
       "    </tr>\n",
       "    <tr>\n",
       "      <th>1</th>\n",
       "      <td>advice Talk to your neighbours family to excha...</td>\n",
       "      <td>Positive</td>\n",
       "      <td>4</td>\n",
       "      <td>advice talk neighbour family exchange phone nu...</td>\n",
       "    </tr>\n",
       "    <tr>\n",
       "      <th>2</th>\n",
       "      <td>Coronavirus Australia: Woolworths to give elde...</td>\n",
       "      <td>Positive</td>\n",
       "      <td>4</td>\n",
       "      <td>coronavirus australia woolworth give elderly d...</td>\n",
       "    </tr>\n",
       "    <tr>\n",
       "      <th>3</th>\n",
       "      <td>My food stock is not the only one which is emp...</td>\n",
       "      <td>Positive</td>\n",
       "      <td>4</td>\n",
       "      <td>food stock one empty please dont panic enough ...</td>\n",
       "    </tr>\n",
       "    <tr>\n",
       "      <th>4</th>\n",
       "      <td>Me, ready to go at supermarket during the #COV...</td>\n",
       "      <td>Extremely Negative</td>\n",
       "      <td>0</td>\n",
       "      <td>ready go supermarket covid outbreak im paranoi...</td>\n",
       "    </tr>\n",
       "  </tbody>\n",
       "</table>\n",
       "</div>"
      ],
      "text/plain": [
       "                                       OriginalTweet           Sentiment  \\\n",
       "0  @MeNyrbie @Phil_Gahan @Chrisitv https://t.co/i...             Neutral   \n",
       "1  advice Talk to your neighbours family to excha...            Positive   \n",
       "2  Coronavirus Australia: Woolworths to give elde...            Positive   \n",
       "3  My food stock is not the only one which is emp...            Positive   \n",
       "4  Me, ready to go at supermarket during the #COV...  Extremely Negative   \n",
       "\n",
       "   sentiment_encoded                                        Final_Tweet  \n",
       "0                  3                        menyrbie philgahan chrisitv  \n",
       "1                  4  advice talk neighbour family exchange phone nu...  \n",
       "2                  4  coronavirus australia woolworth give elderly d...  \n",
       "3                  4  food stock one empty please dont panic enough ...  \n",
       "4                  0  ready go supermarket covid outbreak im paranoi...  "
      ]
     },
     "execution_count": 123,
     "metadata": {},
     "output_type": "execute_result"
    }
   ],
   "source": [
    "train_df.head()"
   ]
  },
  {
   "cell_type": "code",
   "execution_count": 124,
   "id": "947f93f2-7423-4899-bf9e-59f09f6a4324",
   "metadata": {
    "colab": {
     "base_uri": "https://localhost:8080/",
     "height": 206
    },
    "id": "947f93f2-7423-4899-bf9e-59f09f6a4324",
    "outputId": "f0fcaab2-3c65-4451-bd35-ef3e1fba6fdf"
   },
   "outputs": [
    {
     "data": {
      "text/html": [
       "<div>\n",
       "<style scoped>\n",
       "    .dataframe tbody tr th:only-of-type {\n",
       "        vertical-align: middle;\n",
       "    }\n",
       "\n",
       "    .dataframe tbody tr th {\n",
       "        vertical-align: top;\n",
       "    }\n",
       "\n",
       "    .dataframe thead th {\n",
       "        text-align: right;\n",
       "    }\n",
       "</style>\n",
       "<table border=\"1\" class=\"dataframe\">\n",
       "  <thead>\n",
       "    <tr style=\"text-align: right;\">\n",
       "      <th></th>\n",
       "      <th>OriginalTweet</th>\n",
       "      <th>Sentiment</th>\n",
       "      <th>sentiment_encoded</th>\n",
       "      <th>Final_Tweet</th>\n",
       "    </tr>\n",
       "  </thead>\n",
       "  <tbody>\n",
       "    <tr>\n",
       "      <th>0</th>\n",
       "      <td>TRENDING: New Yorkers encounter empty supermar...</td>\n",
       "      <td>Extremely Negative</td>\n",
       "      <td>0</td>\n",
       "      <td>trending new yorkers encounter empty supermark...</td>\n",
       "    </tr>\n",
       "    <tr>\n",
       "      <th>1</th>\n",
       "      <td>When I couldn't find hand sanitizer at Fred Me...</td>\n",
       "      <td>Positive</td>\n",
       "      <td>4</td>\n",
       "      <td>couldnt find hand sanitizer fred meyer turned ...</td>\n",
       "    </tr>\n",
       "    <tr>\n",
       "      <th>2</th>\n",
       "      <td>Find out how you can protect yourself and love...</td>\n",
       "      <td>Extremely Positive</td>\n",
       "      <td>1</td>\n",
       "      <td>find protect loved one coronavirus</td>\n",
       "    </tr>\n",
       "    <tr>\n",
       "      <th>3</th>\n",
       "      <td>#Panic buying hits #NewYork City as anxious sh...</td>\n",
       "      <td>Negative</td>\n",
       "      <td>2</td>\n",
       "      <td>panic buying hit newyork city anxious shopper ...</td>\n",
       "    </tr>\n",
       "    <tr>\n",
       "      <th>4</th>\n",
       "      <td>#toiletpaper #dunnypaper #coronavirus #coronav...</td>\n",
       "      <td>Neutral</td>\n",
       "      <td>3</td>\n",
       "      <td>toiletpaper dunnypaper coronavirus coronavirus...</td>\n",
       "    </tr>\n",
       "  </tbody>\n",
       "</table>\n",
       "</div>"
      ],
      "text/plain": [
       "                                       OriginalTweet           Sentiment  \\\n",
       "0  TRENDING: New Yorkers encounter empty supermar...  Extremely Negative   \n",
       "1  When I couldn't find hand sanitizer at Fred Me...            Positive   \n",
       "2  Find out how you can protect yourself and love...  Extremely Positive   \n",
       "3  #Panic buying hits #NewYork City as anxious sh...            Negative   \n",
       "4  #toiletpaper #dunnypaper #coronavirus #coronav...             Neutral   \n",
       "\n",
       "   sentiment_encoded                                        Final_Tweet  \n",
       "0                  0  trending new yorkers encounter empty supermark...  \n",
       "1                  4  couldnt find hand sanitizer fred meyer turned ...  \n",
       "2                  1                 find protect loved one coronavirus  \n",
       "3                  2  panic buying hit newyork city anxious shopper ...  \n",
       "4                  3  toiletpaper dunnypaper coronavirus coronavirus...  "
      ]
     },
     "execution_count": 124,
     "metadata": {},
     "output_type": "execute_result"
    }
   ],
   "source": [
    "test_df.head()"
   ]
  },
  {
   "cell_type": "code",
   "execution_count": 125,
   "id": "eaf40e0d-cecb-4852-86d7-ef118faf41ed",
   "metadata": {
    "id": "eaf40e0d-cecb-4852-86d7-ef118faf41ed"
   },
   "outputs": [],
   "source": [
    "#After Preprocessing we dont need Original_Tweet Column so we drop it\n",
    "if 'OriginalTweet' in train_df.columns:\n",
    " train_df.drop(columns=['OriginalTweet'], axis=1, inplace=True)\n",
    "if 'OriginalTweet' in test_df.columns:\n",
    " test_df.drop(columns=['OriginalTweet'], axis=1, inplace=True)"
   ]
  },
  {
   "cell_type": "markdown",
   "id": "bf8d5ea9-c832-4954-ba54-df41c10b2175",
   "metadata": {
    "id": "bf8d5ea9-c832-4954-ba54-df41c10b2175"
   },
   "source": [
    "## Apllying Padding"
   ]
  },
  {
   "cell_type": "code",
   "execution_count": 126,
   "id": "2d480660-5ba0-4ade-b940-0efc82b1551d",
   "metadata": {
    "id": "2d480660-5ba0-4ade-b940-0efc82b1551d"
   },
   "outputs": [],
   "source": [
    "#tokeniser splits our tweets into individual words/subwords\n",
    "#this step builds vocabulary of the tokenizer\n",
    "#num_words will control the maximum size of vocabulary\n",
    "tokenizer = Tokenizer(num_words=10000, oov_token='<OOV>')\n",
    "tokenizer.fit_on_texts(train_df['Final_Tweet'])\n",
    "\n",
    "#this step encodes each word of each tweet into an integer sequence\n",
    "X_train = tokenizer.texts_to_sequences(train_df['Final_Tweet'])\n",
    "X_test = tokenizer.texts_to_sequences(test_df['Final_Tweet'])"
   ]
  },
  {
   "cell_type": "code",
   "execution_count": 127,
   "id": "077509bd-8d8a-4258-b491-68d9a9acbc5f",
   "metadata": {
    "colab": {
     "base_uri": "https://localhost:8080/"
    },
    "id": "077509bd-8d8a-4258-b491-68d9a9acbc5f",
    "outputId": "91237220-fe70-4465-b07f-90c39fedefef"
   },
   "outputs": [
    {
     "name": "stdout",
     "output_type": "stream",
     "text": [
      "53477 180\n"
     ]
    }
   ],
   "source": [
    "vocab_size = len(tokenizer.word_index)\n",
    "\n",
    "#All tweet lengths\n",
    "tweet_lengths = [len(tweet) for tweet in train_df['Final_Tweet']]\n",
    "max_length = max(set(tweet_lengths), key=tweet_lengths.count) + 10\n",
    "\n",
    "#padding seqeunce for both training and test data\n",
    "X_train = pad_sequences(X_train, maxlen=max_length, padding='post', truncating='post')\n",
    "\n",
    "X_test = pad_sequences(X_test, maxlen=max_length, padding='post', truncating='post')\n",
    "\n",
    "y_train = train_df['Sentiment']\n",
    "y_test = test_df['Sentiment']\n",
    "y_train_encoded = label_encoder.fit_transform(y_train)\n",
    "y_test_encoded = label_encoder.transform(y_test)\n",
    "\n",
    "print(vocab_size, max_length)"
   ]
  },
  {
   "cell_type": "markdown",
   "id": "b4cdff86-8382-48ee-8a25-281e6afbe30a",
   "metadata": {
    "id": "b4cdff86-8382-48ee-8a25-281e6afbe30a"
   },
   "source": [
    "## Model Architecture"
   ]
  },
  {
   "cell_type": "code",
   "execution_count": 128,
   "id": "6f61e480-fa86-4dae-8298-83da1d767721",
   "metadata": {
    "id": "6f61e480-fa86-4dae-8298-83da1d767721"
   },
   "outputs": [],
   "source": [
    "#Set maxlen based on the length of your input sequences\n",
    "maxlen = max(len(seq) for seq in X_train)\n",
    "#we have 5 classes of Sentiment\n",
    "num_classes = len(label_encoder.classes_)"
   ]
  },
  {
   "cell_type": "code",
   "execution_count": 129,
   "id": "2145adc3-95c6-4bde-a9a8-bd62b791ac9a",
   "metadata": {
    "id": "2145adc3-95c6-4bde-a9a8-bd62b791ac9a"
   },
   "outputs": [],
   "source": [
    "#+1 for the padding token\n",
    "#output_dim represents the dimensionality of the word vectors (holding semantic meaning) to be used by model\n",
    "#In Dense layer units=num_classes since it is meant to classify sentiments under 5 classes\n",
    "# Used softmax because its an multi-classification problem\n",
    "model = Sequential()\n",
    "model.add(Embedding(input_dim=(vocab_size), output_dim=128))\n",
    "model.add(Bidirectional(LSTM(units=128, dropout=0.2, recurrent_dropout=0.2)))\n",
    "model.add(Dense(units=num_classes, activation='softmax'))"
   ]
  },
  {
   "cell_type": "code",
   "execution_count": 130,
   "id": "7q8iagkRwylv",
   "metadata": {
    "id": "7q8iagkRwylv"
   },
   "outputs": [],
   "source": [
    "#Using sparse_categorical_crossentropy since we have encoded data in form of integers\n",
    "#Using accuracy as metric since its an classification task\n",
    "#optimizer determines how the model's weights are updated based on the loss function\n",
    "model.compile(optimizer='adam', loss='sparse_categorical_crossentropy', metrics=['accuracy'])"
   ]
  },
  {
   "cell_type": "markdown",
   "id": "xB6HemGZ0VbR",
   "metadata": {
    "id": "xB6HemGZ0VbR"
   },
   "source": [
    "USING CALLBACK TO OPTIMIZE MODEL TRAINING PROCESS\n"
   ]
  },
  {
   "cell_type": "code",
   "execution_count": 131,
   "id": "qY3NK9Qu0odO",
   "metadata": {
    "id": "qY3NK9Qu0odO"
   },
   "outputs": [],
   "source": [
    "#prevent overfitting by stopping the training process early\n",
    "# number of epochs to wait before stopping the training process if no improvement is observed\n",
    "early_stopping = EarlyStopping(monitor='val_loss', patience=5, restore_best_weights=True)"
   ]
  },
  {
   "cell_type": "code",
   "execution_count": 132,
   "id": "95157805-c60b-4823-b446-f231f63f097d",
   "metadata": {},
   "outputs": [
    {
     "name": "stdout",
     "output_type": "stream",
     "text": [
      "Epoch 1/20\n",
      "\u001b[1m644/644\u001b[0m \u001b[32m━━━━━━━━━━━━━━━━━━━━\u001b[0m\u001b[37m\u001b[0m \u001b[1m347s\u001b[0m 527ms/step - accuracy: 0.4367 - loss: 1.2921 - val_accuracy: 0.6756 - val_loss: 0.8701\n",
      "Epoch 2/20\n",
      "\u001b[1m644/644\u001b[0m \u001b[32m━━━━━━━━━━━━━━━━━━━━\u001b[0m\u001b[37m\u001b[0m \u001b[1m342s\u001b[0m 531ms/step - accuracy: 0.7486 - loss: 0.6969 - val_accuracy: 0.7070 - val_loss: 0.8117\n",
      "Epoch 3/20\n",
      "\u001b[1m644/644\u001b[0m \u001b[32m━━━━━━━━━━━━━━━━━━━━\u001b[0m\u001b[37m\u001b[0m \u001b[1m336s\u001b[0m 521ms/step - accuracy: 0.8018 - loss: 0.5770 - val_accuracy: 0.7075 - val_loss: 0.8087\n",
      "Epoch 4/20\n",
      "\u001b[1m644/644\u001b[0m \u001b[32m━━━━━━━━━━━━━━━━━━━━\u001b[0m\u001b[37m\u001b[0m \u001b[1m316s\u001b[0m 490ms/step - accuracy: 0.8338 - loss: 0.4935 - val_accuracy: 0.7106 - val_loss: 0.8140\n",
      "Epoch 5/20\n",
      "\u001b[1m644/644\u001b[0m \u001b[32m━━━━━━━━━━━━━━━━━━━━\u001b[0m\u001b[37m\u001b[0m \u001b[1m322s\u001b[0m 500ms/step - accuracy: 0.8576 - loss: 0.4299 - val_accuracy: 0.7022 - val_loss: 0.8615\n",
      "Epoch 6/20\n",
      "\u001b[1m644/644\u001b[0m \u001b[32m━━━━━━━━━━━━━━━━━━━━\u001b[0m\u001b[37m\u001b[0m \u001b[1m332s\u001b[0m 516ms/step - accuracy: 0.8755 - loss: 0.3732 - val_accuracy: 0.7017 - val_loss: 0.9317\n",
      "Epoch 7/20\n",
      "\u001b[1m644/644\u001b[0m \u001b[32m━━━━━━━━━━━━━━━━━━━━\u001b[0m\u001b[37m\u001b[0m \u001b[1m338s\u001b[0m 524ms/step - accuracy: 0.8934 - loss: 0.3222 - val_accuracy: 0.6962 - val_loss: 0.9865\n",
      "Epoch 8/20\n",
      "\u001b[1m644/644\u001b[0m \u001b[32m━━━━━━━━━━━━━━━━━━━━\u001b[0m\u001b[37m\u001b[0m \u001b[1m334s\u001b[0m 518ms/step - accuracy: 0.9070 - loss: 0.2871 - val_accuracy: 0.6872 - val_loss: 1.0543\n"
     ]
    }
   ],
   "source": [
    "history = model.fit(X_train, y_train_encoded, validation_data=(X_test, y_test_encoded), epochs=20, batch_size=64, callbacks=[early_stopping])\n",
    "\n",
    "# Save the model\n",
    "model.save(\"early.keras\")"
   ]
  },
  {
   "cell_type": "code",
   "execution_count": null,
   "id": "2eafd6f4-8d24-4163-bca4-6337e2875cf2",
   "metadata": {},
   "outputs": [],
   "source": [
    "model_checkpoint = ModelCheckpoint(filepath='best_model.keras', monitor='val_accuracy', save_best_only=True, verbose=2)"
   ]
  },
  {
   "cell_type": "code",
   "execution_count": 109,
   "id": "191d4f31-b6ca-4a4f-b4b5-b8519cf0c7fc",
   "metadata": {},
   "outputs": [
    {
     "name": "stdout",
     "output_type": "stream",
     "text": [
      "Epoch 1/20\n",
      "\u001b[1m644/644\u001b[0m \u001b[32m━━━━━━━━━━━━━━━━━━━━\u001b[0m\u001b[37m\u001b[0m \u001b[1m0s\u001b[0m 396ms/step - accuracy: 0.9933 - loss: 0.0225\n",
      "Epoch 1: val_accuracy did not improve from 0.80885\n",
      "\u001b[1m644/644\u001b[0m \u001b[32m━━━━━━━━━━━━━━━━━━━━\u001b[0m\u001b[37m\u001b[0m \u001b[1m261s\u001b[0m 406ms/step - accuracy: 0.9933 - loss: 0.0225 - val_accuracy: 0.7715 - val_loss: 1.3492\n",
      "Epoch 2/20\n",
      "\u001b[1m644/644\u001b[0m \u001b[32m━━━━━━━━━━━━━━━━━━━━\u001b[0m\u001b[37m\u001b[0m \u001b[1m0s\u001b[0m 403ms/step - accuracy: 0.9960 - loss: 0.0136\n",
      "Epoch 2: val_accuracy did not improve from 0.80885\n",
      "\u001b[1m644/644\u001b[0m \u001b[32m━━━━━━━━━━━━━━━━━━━━\u001b[0m\u001b[37m\u001b[0m \u001b[1m265s\u001b[0m 412ms/step - accuracy: 0.9960 - loss: 0.0136 - val_accuracy: 0.7709 - val_loss: 1.3892\n",
      "Epoch 3/20\n",
      "\u001b[1m644/644\u001b[0m \u001b[32m━━━━━━━━━━━━━━━━━━━━\u001b[0m\u001b[37m\u001b[0m \u001b[1m0s\u001b[0m 400ms/step - accuracy: 0.9959 - loss: 0.0143\n",
      "Epoch 3: val_accuracy did not improve from 0.80885\n",
      "\u001b[1m644/644\u001b[0m \u001b[32m━━━━━━━━━━━━━━━━━━━━\u001b[0m\u001b[37m\u001b[0m \u001b[1m264s\u001b[0m 410ms/step - accuracy: 0.9959 - loss: 0.0143 - val_accuracy: 0.7638 - val_loss: 1.4337\n",
      "Epoch 4/20\n",
      "\u001b[1m644/644\u001b[0m \u001b[32m━━━━━━━━━━━━━━━━━━━━\u001b[0m\u001b[37m\u001b[0m \u001b[1m0s\u001b[0m 403ms/step - accuracy: 0.9965 - loss: 0.0120\n",
      "Epoch 4: val_accuracy did not improve from 0.80885\n",
      "\u001b[1m644/644\u001b[0m \u001b[32m━━━━━━━━━━━━━━━━━━━━\u001b[0m\u001b[37m\u001b[0m \u001b[1m266s\u001b[0m 412ms/step - accuracy: 0.9965 - loss: 0.0120 - val_accuracy: 0.7667 - val_loss: 1.5549\n",
      "Epoch 5/20\n",
      "\u001b[1m644/644\u001b[0m \u001b[32m━━━━━━━━━━━━━━━━━━━━\u001b[0m\u001b[37m\u001b[0m \u001b[1m0s\u001b[0m 389ms/step - accuracy: 0.9962 - loss: 0.0113\n",
      "Epoch 5: val_accuracy did not improve from 0.80885\n",
      "\u001b[1m644/644\u001b[0m \u001b[32m━━━━━━━━━━━━━━━━━━━━\u001b[0m\u001b[37m\u001b[0m \u001b[1m257s\u001b[0m 399ms/step - accuracy: 0.9962 - loss: 0.0113 - val_accuracy: 0.7630 - val_loss: 1.5561\n",
      "Epoch 6/20\n",
      "\u001b[1m644/644\u001b[0m \u001b[32m━━━━━━━━━━━━━━━━━━━━\u001b[0m\u001b[37m\u001b[0m \u001b[1m0s\u001b[0m 404ms/step - accuracy: 0.9960 - loss: 0.0136\n",
      "Epoch 6: val_accuracy did not improve from 0.80885\n",
      "\u001b[1m644/644\u001b[0m \u001b[32m━━━━━━━━━━━━━━━━━━━━\u001b[0m\u001b[37m\u001b[0m \u001b[1m267s\u001b[0m 414ms/step - accuracy: 0.9960 - loss: 0.0136 - val_accuracy: 0.7665 - val_loss: 1.6311\n",
      "Epoch 7/20\n",
      "\u001b[1m644/644\u001b[0m \u001b[32m━━━━━━━━━━━━━━━━━━━━\u001b[0m\u001b[37m\u001b[0m \u001b[1m0s\u001b[0m 409ms/step - accuracy: 0.9974 - loss: 0.0093\n",
      "Epoch 7: val_accuracy did not improve from 0.80885\n",
      "\u001b[1m644/644\u001b[0m \u001b[32m━━━━━━━━━━━━━━━━━━━━\u001b[0m\u001b[37m\u001b[0m \u001b[1m270s\u001b[0m 420ms/step - accuracy: 0.9974 - loss: 0.0093 - val_accuracy: 0.7699 - val_loss: 1.6537\n",
      "Epoch 8/20\n",
      "\u001b[1m644/644\u001b[0m \u001b[32m━━━━━━━━━━━━━━━━━━━━\u001b[0m\u001b[37m\u001b[0m \u001b[1m0s\u001b[0m 383ms/step - accuracy: 0.9975 - loss: 0.0089\n",
      "Epoch 8: val_accuracy did not improve from 0.80885\n",
      "\u001b[1m644/644\u001b[0m \u001b[32m━━━━━━━━━━━━━━━━━━━━\u001b[0m\u001b[37m\u001b[0m \u001b[1m253s\u001b[0m 393ms/step - accuracy: 0.9975 - loss: 0.0089 - val_accuracy: 0.7612 - val_loss: 1.6544\n",
      "Epoch 9/20\n",
      "\u001b[1m644/644\u001b[0m \u001b[32m━━━━━━━━━━━━━━━━━━━━\u001b[0m\u001b[37m\u001b[0m \u001b[1m0s\u001b[0m 383ms/step - accuracy: 0.9978 - loss: 0.0080\n",
      "Epoch 9: val_accuracy did not improve from 0.80885\n",
      "\u001b[1m644/644\u001b[0m \u001b[32m━━━━━━━━━━━━━━━━━━━━\u001b[0m\u001b[37m\u001b[0m \u001b[1m253s\u001b[0m 392ms/step - accuracy: 0.9978 - loss: 0.0080 - val_accuracy: 0.7678 - val_loss: 1.7219\n",
      "Epoch 10/20\n",
      "\u001b[1m644/644\u001b[0m \u001b[32m━━━━━━━━━━━━━━━━━━━━\u001b[0m\u001b[37m\u001b[0m \u001b[1m0s\u001b[0m 382ms/step - accuracy: 0.9975 - loss: 0.0088\n",
      "Epoch 10: val_accuracy did not improve from 0.80885\n",
      "\u001b[1m644/644\u001b[0m \u001b[32m━━━━━━━━━━━━━━━━━━━━\u001b[0m\u001b[37m\u001b[0m \u001b[1m252s\u001b[0m 391ms/step - accuracy: 0.9975 - loss: 0.0088 - val_accuracy: 0.7657 - val_loss: 1.7089\n",
      "Epoch 11/20\n",
      "\u001b[1m644/644\u001b[0m \u001b[32m━━━━━━━━━━━━━━━━━━━━\u001b[0m\u001b[37m\u001b[0m \u001b[1m0s\u001b[0m 380ms/step - accuracy: 0.9976 - loss: 0.0070\n",
      "Epoch 11: val_accuracy did not improve from 0.80885\n",
      "\u001b[1m644/644\u001b[0m \u001b[32m━━━━━━━━━━━━━━━━━━━━\u001b[0m\u001b[37m\u001b[0m \u001b[1m251s\u001b[0m 389ms/step - accuracy: 0.9976 - loss: 0.0070 - val_accuracy: 0.7570 - val_loss: 1.7476\n",
      "Epoch 12/20\n",
      "\u001b[1m644/644\u001b[0m \u001b[32m━━━━━━━━━━━━━━━━━━━━\u001b[0m\u001b[37m\u001b[0m \u001b[1m0s\u001b[0m 384ms/step - accuracy: 0.9978 - loss: 0.0076\n",
      "Epoch 12: val_accuracy did not improve from 0.80885\n",
      "\u001b[1m644/644\u001b[0m \u001b[32m━━━━━━━━━━━━━━━━━━━━\u001b[0m\u001b[37m\u001b[0m \u001b[1m253s\u001b[0m 393ms/step - accuracy: 0.9978 - loss: 0.0076 - val_accuracy: 0.7588 - val_loss: 1.8769\n",
      "Epoch 13/20\n",
      "\u001b[1m644/644\u001b[0m \u001b[32m━━━━━━━━━━━━━━━━━━━━\u001b[0m\u001b[37m\u001b[0m \u001b[1m0s\u001b[0m 390ms/step - accuracy: 0.9980 - loss: 0.0054\n",
      "Epoch 13: val_accuracy did not improve from 0.80885\n",
      "\u001b[1m644/644\u001b[0m \u001b[32m━━━━━━━━━━━━━━━━━━━━\u001b[0m\u001b[37m\u001b[0m \u001b[1m257s\u001b[0m 399ms/step - accuracy: 0.9980 - loss: 0.0054 - val_accuracy: 0.7586 - val_loss: 1.8345\n",
      "Epoch 14/20\n",
      "\u001b[1m644/644\u001b[0m \u001b[32m━━━━━━━━━━━━━━━━━━━━\u001b[0m\u001b[37m\u001b[0m \u001b[1m0s\u001b[0m 393ms/step - accuracy: 0.9984 - loss: 0.0052\n",
      "Epoch 14: val_accuracy did not improve from 0.80885\n",
      "\u001b[1m644/644\u001b[0m \u001b[32m━━━━━━━━━━━━━━━━━━━━\u001b[0m\u001b[37m\u001b[0m \u001b[1m260s\u001b[0m 404ms/step - accuracy: 0.9984 - loss: 0.0052 - val_accuracy: 0.7638 - val_loss: 1.9348\n",
      "Epoch 15/20\n",
      "\u001b[1m644/644\u001b[0m \u001b[32m━━━━━━━━━━━━━━━━━━━━\u001b[0m\u001b[37m\u001b[0m \u001b[1m0s\u001b[0m 395ms/step - accuracy: 0.9981 - loss: 0.0062\n",
      "Epoch 15: val_accuracy did not improve from 0.80885\n",
      "\u001b[1m644/644\u001b[0m \u001b[32m━━━━━━━━━━━━━━━━━━━━\u001b[0m\u001b[37m\u001b[0m \u001b[1m260s\u001b[0m 404ms/step - accuracy: 0.9981 - loss: 0.0062 - val_accuracy: 0.7683 - val_loss: 1.8652\n",
      "Epoch 16/20\n",
      "\u001b[1m644/644\u001b[0m \u001b[32m━━━━━━━━━━━━━━━━━━━━\u001b[0m\u001b[37m\u001b[0m \u001b[1m0s\u001b[0m 378ms/step - accuracy: 0.9983 - loss: 0.0062\n",
      "Epoch 16: val_accuracy did not improve from 0.80885\n",
      "\u001b[1m644/644\u001b[0m \u001b[32m━━━━━━━━━━━━━━━━━━━━\u001b[0m\u001b[37m\u001b[0m \u001b[1m249s\u001b[0m 387ms/step - accuracy: 0.9983 - loss: 0.0062 - val_accuracy: 0.7651 - val_loss: 1.9596\n",
      "Epoch 17/20\n",
      "\u001b[1m644/644\u001b[0m \u001b[32m━━━━━━━━━━━━━━━━━━━━\u001b[0m\u001b[37m\u001b[0m \u001b[1m0s\u001b[0m 381ms/step - accuracy: 0.9986 - loss: 0.0042\n",
      "Epoch 17: val_accuracy did not improve from 0.80885\n",
      "\u001b[1m644/644\u001b[0m \u001b[32m━━━━━━━━━━━━━━━━━━━━\u001b[0m\u001b[37m\u001b[0m \u001b[1m251s\u001b[0m 390ms/step - accuracy: 0.9986 - loss: 0.0042 - val_accuracy: 0.7701 - val_loss: 1.9599\n",
      "Epoch 18/20\n",
      "\u001b[1m644/644\u001b[0m \u001b[32m━━━━━━━━━━━━━━━━━━━━\u001b[0m\u001b[37m\u001b[0m \u001b[1m0s\u001b[0m 388ms/step - accuracy: 0.9986 - loss: 0.0045\n",
      "Epoch 18: val_accuracy did not improve from 0.80885\n",
      "\u001b[1m644/644\u001b[0m \u001b[32m━━━━━━━━━━━━━━━━━━━━\u001b[0m\u001b[37m\u001b[0m \u001b[1m256s\u001b[0m 397ms/step - accuracy: 0.9986 - loss: 0.0045 - val_accuracy: 0.7507 - val_loss: 1.8912\n",
      "Epoch 19/20\n",
      "\u001b[1m644/644\u001b[0m \u001b[32m━━━━━━━━━━━━━━━━━━━━\u001b[0m\u001b[37m\u001b[0m \u001b[1m0s\u001b[0m 384ms/step - accuracy: 0.9985 - loss: 0.0051\n",
      "Epoch 19: val_accuracy did not improve from 0.80885\n",
      "\u001b[1m644/644\u001b[0m \u001b[32m━━━━━━━━━━━━━━━━━━━━\u001b[0m\u001b[37m\u001b[0m \u001b[1m254s\u001b[0m 394ms/step - accuracy: 0.9985 - loss: 0.0051 - val_accuracy: 0.7641 - val_loss: 2.0154\n",
      "Epoch 20/20\n",
      "\u001b[1m644/644\u001b[0m \u001b[32m━━━━━━━━━━━━━━━━━━━━\u001b[0m\u001b[37m\u001b[0m \u001b[1m0s\u001b[0m 381ms/step - accuracy: 0.9984 - loss: 0.0052\n",
      "Epoch 20: val_accuracy did not improve from 0.80885\n",
      "\u001b[1m644/644\u001b[0m \u001b[32m━━━━━━━━━━━━━━━━━━━━\u001b[0m\u001b[37m\u001b[0m \u001b[1m251s\u001b[0m 390ms/step - accuracy: 0.9984 - loss: 0.0052 - val_accuracy: 0.7617 - val_loss: 1.9667\n"
     ]
    },
    {
     "data": {
      "text/plain": [
       "<keras.src.callbacks.history.History at 0x1a2b5aaa810>"
      ]
     },
     "execution_count": 109,
     "metadata": {},
     "output_type": "execute_result"
    }
   ],
   "source": [
    "# Train the model with the ModelCheckpoint callback\n",
    "model.fit(X_train, Y_train, validation_data=(X_test, Y_test), epochs=20, batch_size=64, callbacks=[model_checkpoint])"
   ]
  },
  {
   "cell_type": "code",
   "execution_count": 133,
   "id": "yMzKCxkv45dS",
   "metadata": {
    "id": "yMzKCxkv45dS"
   },
   "outputs": [
    {
     "name": "stdout",
     "output_type": "stream",
     "text": [
      "\u001b[1m119/119\u001b[0m \u001b[32m━━━━━━━━━━━━━━━━━━━━\u001b[0m\u001b[37m\u001b[0m \u001b[1m8s\u001b[0m 66ms/step - accuracy: 0.7093 - loss: 0.8153\n",
      "Test Loss: 0.8087465763092041\n",
      "Test Accuracy: 0.7074776291847229\n"
     ]
    },
    {
     "data": {
      "text/html": [
       "<pre style=\"white-space:pre;overflow-x:auto;line-height:normal;font-family:Menlo,'DejaVu Sans Mono',consolas,'Courier New',monospace\"><span style=\"font-weight: bold\">Model: \"sequential_19\"</span>\n",
       "</pre>\n"
      ],
      "text/plain": [
       "\u001b[1mModel: \"sequential_19\"\u001b[0m\n"
      ]
     },
     "metadata": {},
     "output_type": "display_data"
    },
    {
     "data": {
      "text/html": [
       "<pre style=\"white-space:pre;overflow-x:auto;line-height:normal;font-family:Menlo,'DejaVu Sans Mono',consolas,'Courier New',monospace\">┏━━━━━━━━━━━━━━━━━━━━━━━━━━━━━━━━━━━━━━┳━━━━━━━━━━━━━━━━━━━━━━━━━━━━━┳━━━━━━━━━━━━━━━━━┓\n",
       "┃<span style=\"font-weight: bold\"> Layer (type)                         </span>┃<span style=\"font-weight: bold\"> Output Shape                </span>┃<span style=\"font-weight: bold\">         Param # </span>┃\n",
       "┡━━━━━━━━━━━━━━━━━━━━━━━━━━━━━━━━━━━━━━╇━━━━━━━━━━━━━━━━━━━━━━━━━━━━━╇━━━━━━━━━━━━━━━━━┩\n",
       "│ embedding_18 (<span style=\"color: #0087ff; text-decoration-color: #0087ff\">Embedding</span>)             │ (<span style=\"color: #00d7ff; text-decoration-color: #00d7ff\">None</span>, <span style=\"color: #00af00; text-decoration-color: #00af00\">180</span>, <span style=\"color: #00af00; text-decoration-color: #00af00\">128</span>)            │       <span style=\"color: #00af00; text-decoration-color: #00af00\">6,845,056</span> │\n",
       "├──────────────────────────────────────┼─────────────────────────────┼─────────────────┤\n",
       "│ bidirectional_4 (<span style=\"color: #0087ff; text-decoration-color: #0087ff\">Bidirectional</span>)      │ (<span style=\"color: #00d7ff; text-decoration-color: #00d7ff\">None</span>, <span style=\"color: #00af00; text-decoration-color: #00af00\">256</span>)                 │         <span style=\"color: #00af00; text-decoration-color: #00af00\">263,168</span> │\n",
       "├──────────────────────────────────────┼─────────────────────────────┼─────────────────┤\n",
       "│ dense_18 (<span style=\"color: #0087ff; text-decoration-color: #0087ff\">Dense</span>)                     │ (<span style=\"color: #00d7ff; text-decoration-color: #00d7ff\">None</span>, <span style=\"color: #00af00; text-decoration-color: #00af00\">5</span>)                   │           <span style=\"color: #00af00; text-decoration-color: #00af00\">1,285</span> │\n",
       "└──────────────────────────────────────┴─────────────────────────────┴─────────────────┘\n",
       "</pre>\n"
      ],
      "text/plain": [
       "┏━━━━━━━━━━━━━━━━━━━━━━━━━━━━━━━━━━━━━━┳━━━━━━━━━━━━━━━━━━━━━━━━━━━━━┳━━━━━━━━━━━━━━━━━┓\n",
       "┃\u001b[1m \u001b[0m\u001b[1mLayer (type)                        \u001b[0m\u001b[1m \u001b[0m┃\u001b[1m \u001b[0m\u001b[1mOutput Shape               \u001b[0m\u001b[1m \u001b[0m┃\u001b[1m \u001b[0m\u001b[1m        Param #\u001b[0m\u001b[1m \u001b[0m┃\n",
       "┡━━━━━━━━━━━━━━━━━━━━━━━━━━━━━━━━━━━━━━╇━━━━━━━━━━━━━━━━━━━━━━━━━━━━━╇━━━━━━━━━━━━━━━━━┩\n",
       "│ embedding_18 (\u001b[38;5;33mEmbedding\u001b[0m)             │ (\u001b[38;5;45mNone\u001b[0m, \u001b[38;5;34m180\u001b[0m, \u001b[38;5;34m128\u001b[0m)            │       \u001b[38;5;34m6,845,056\u001b[0m │\n",
       "├──────────────────────────────────────┼─────────────────────────────┼─────────────────┤\n",
       "│ bidirectional_4 (\u001b[38;5;33mBidirectional\u001b[0m)      │ (\u001b[38;5;45mNone\u001b[0m, \u001b[38;5;34m256\u001b[0m)                 │         \u001b[38;5;34m263,168\u001b[0m │\n",
       "├──────────────────────────────────────┼─────────────────────────────┼─────────────────┤\n",
       "│ dense_18 (\u001b[38;5;33mDense\u001b[0m)                     │ (\u001b[38;5;45mNone\u001b[0m, \u001b[38;5;34m5\u001b[0m)                   │           \u001b[38;5;34m1,285\u001b[0m │\n",
       "└──────────────────────────────────────┴─────────────────────────────┴─────────────────┘\n"
      ]
     },
     "metadata": {},
     "output_type": "display_data"
    },
    {
     "data": {
      "text/html": [
       "<pre style=\"white-space:pre;overflow-x:auto;line-height:normal;font-family:Menlo,'DejaVu Sans Mono',consolas,'Courier New',monospace\"><span style=\"font-weight: bold\"> Total params: </span><span style=\"color: #00af00; text-decoration-color: #00af00\">21,328,529</span> (81.36 MB)\n",
       "</pre>\n"
      ],
      "text/plain": [
       "\u001b[1m Total params: \u001b[0m\u001b[38;5;34m21,328,529\u001b[0m (81.36 MB)\n"
      ]
     },
     "metadata": {},
     "output_type": "display_data"
    },
    {
     "data": {
      "text/html": [
       "<pre style=\"white-space:pre;overflow-x:auto;line-height:normal;font-family:Menlo,'DejaVu Sans Mono',consolas,'Courier New',monospace\"><span style=\"font-weight: bold\"> Trainable params: </span><span style=\"color: #00af00; text-decoration-color: #00af00\">7,109,509</span> (27.12 MB)\n",
       "</pre>\n"
      ],
      "text/plain": [
       "\u001b[1m Trainable params: \u001b[0m\u001b[38;5;34m7,109,509\u001b[0m (27.12 MB)\n"
      ]
     },
     "metadata": {},
     "output_type": "display_data"
    },
    {
     "data": {
      "text/html": [
       "<pre style=\"white-space:pre;overflow-x:auto;line-height:normal;font-family:Menlo,'DejaVu Sans Mono',consolas,'Courier New',monospace\"><span style=\"font-weight: bold\"> Non-trainable params: </span><span style=\"color: #00af00; text-decoration-color: #00af00\">0</span> (0.00 B)\n",
       "</pre>\n"
      ],
      "text/plain": [
       "\u001b[1m Non-trainable params: \u001b[0m\u001b[38;5;34m0\u001b[0m (0.00 B)\n"
      ]
     },
     "metadata": {},
     "output_type": "display_data"
    },
    {
     "data": {
      "text/html": [
       "<pre style=\"white-space:pre;overflow-x:auto;line-height:normal;font-family:Menlo,'DejaVu Sans Mono',consolas,'Courier New',monospace\"><span style=\"font-weight: bold\"> Optimizer params: </span><span style=\"color: #00af00; text-decoration-color: #00af00\">14,219,020</span> (54.24 MB)\n",
       "</pre>\n"
      ],
      "text/plain": [
       "\u001b[1m Optimizer params: \u001b[0m\u001b[38;5;34m14,219,020\u001b[0m (54.24 MB)\n"
      ]
     },
     "metadata": {},
     "output_type": "display_data"
    },
    {
     "name": "stdout",
     "output_type": "stream",
     "text": [
      "None\n"
     ]
    }
   ],
   "source": [
    "loss, accuracy = model.evaluate(X_test, y_test_encoded)\n",
    "print(\"Test Loss:\", loss)\n",
    "print(\"Test Accuracy:\", accuracy)\n",
    "\n",
    "# Print the model summary\n",
    "print(model.summary())"
   ]
  },
  {
   "cell_type": "code",
   "execution_count": 167,
   "id": "376a9fc2-b382-4843-9486-a224ac4296c9",
   "metadata": {},
   "outputs": [
    {
     "name": "stdout",
     "output_type": "stream",
     "text": [
      "\u001b[1m1/1\u001b[0m \u001b[32m━━━━━━━━━━━━━━━━━━━━\u001b[0m\u001b[37m\u001b[0m \u001b[1m0s\u001b[0m 75ms/step\n"
     ]
    }
   ],
   "source": [
    "tweets = test_df['Final_Tweet'][:20]\n",
    "data_sequences = tokenizer.texts_to_sequences(tweets)\n",
    "data_padded = pad_sequences(data_sequences, maxlen=max_length, padding='post', truncating='post')\n",
    "predictions = model.predict(data_padded)\n",
    "\n",
    "predicted_labels = np.argmax(predictions, axis=1)"
   ]
  },
  {
   "cell_type": "code",
   "execution_count": 168,
   "id": "2a3a0546-10bf-4869-b73e-c8c71315e7c0",
   "metadata": {},
   "outputs": [
    {
     "data": {
      "text/plain": [
       "20"
      ]
     },
     "execution_count": 168,
     "metadata": {},
     "output_type": "execute_result"
    }
   ],
   "source": [
    "len(predictions)"
   ]
  },
  {
   "cell_type": "code",
   "execution_count": 169,
   "id": "6eb2756c-73e2-4de2-a9af-1dbb07cce8b7",
   "metadata": {},
   "outputs": [],
   "source": [
    "# Assuming you have a mapping dictionary from integer labels to class names\n",
    "label_mapping = {0: 'Extremely Negative', 1: 'Extremely Positive', 2: 'Negative', 3: 'Neutral', 4: 'Positive'}\n",
    "\n",
    "# Map integer predictions to class names\n",
    "predicted_class_names = [label_mapping[label] for label in predicted_labels]\n",
    "\n",
    "# Now 'predicted_class_names' contains the predicted class names for your input data"
   ]
  },
  {
   "cell_type": "code",
   "execution_count": 170,
   "id": "8d7ac9a2-e524-4112-aeac-adac252a7d91",
   "metadata": {},
   "outputs": [
    {
     "name": "stdout",
     "output_type": "stream",
     "text": [
      "Tweet:  trending new yorkers encounter empty supermarket shelf pictured wegmans brooklyn soldout online grocer foodkick maxdelivery coronavirusfearing shopper stock\n",
      "Predicted Class:  Negative\n",
      "Actual Class:  Extremely Negative \n",
      "\n",
      "Tweet:  couldnt find hand sanitizer fred meyer turned amazon pack purellcheck coronavirus concern driving price\n",
      "Predicted Class:  Positive\n",
      "Actual Class:  Positive \n",
      "\n",
      "Tweet:  find protect loved one coronavirus\n",
      "Predicted Class:  Extremely Positive\n",
      "Actual Class:  Extremely Positive \n",
      "\n",
      "Tweet:  panic buying hit newyork city anxious shopper stock foodampmedical supply healthcare worker becomes bigapple st confirmed coronavirus patient bloomberg staged event qanon qanon qanon election cdc\n",
      "Predicted Class:  Extremely Negative\n",
      "Actual Class:  Negative \n",
      "\n",
      "Tweet:  toiletpaper dunnypaper coronavirus coronavirusaustralia coronavirusupdate covid news corvid newsmelb dunnypapergate costco one week everyone buying baby milk powder next everyone buying toilet paper\n",
      "Predicted Class:  Neutral\n",
      "Actual Class:  Neutral \n",
      "\n",
      "Tweet:  remember last time paid gallon regular gas los angelesprices pump going look coronavirus impacting price pm abc\n",
      "Predicted Class:  Neutral\n",
      "Actual Class:  Neutral \n",
      "\n",
      "Tweet:  voting age coronavirus hand sanitizer supertuesday\n",
      "Predicted Class:  Positive\n",
      "Actual Class:  Positive \n",
      "\n",
      "Tweet:  drtedros cant stop covid without protecting healthworkers price surgical mask increased sixfold n respirator trebled amp gown cost twice muchdrtedros coronavirus\n",
      "Predicted Class:  Negative\n",
      "Actual Class:  Neutral \n",
      "\n",
      "Tweet:  hi twitter pharmacist sell hand sanitizer living exists like mask sold fuck everywhere worried use soap visit twenty pharmacy looking last bottle pharmacy full sick people\n",
      "Predicted Class:  Extremely Negative\n",
      "Actual Class:  Extremely Negative \n",
      "\n",
      "Tweet:  anyone supermarket last day went normal shop last night amp sight greeted barmy btw whats special tinned tomato covid dublin\n",
      "Predicted Class:  Extremely Positive\n",
      "Actual Class:  Extremely Positive \n",
      "\n",
      "Tweet:  best quality couch unbelievably low price available order boksburg gp info whatsapp supertuesdsy powertalk covid sayentrepreneur djsbu\n",
      "Predicted Class:  Positive\n",
      "Actual Class:  Positive \n",
      "\n",
      "Tweet:  beware counterfeit trying sell fake mask cheap price let defeat coronavirus threat covid collectively besafe beacascader coronavirusreachesdelhi coronavirusindia\n",
      "Predicted Class:  Extremely Negative\n",
      "Actual Class:  Extremely Negative \n",
      "\n",
      "Tweet:  panic food buying germany due coronavirus begun organic left behind hamsterkauf panic buying called hamster purchaseshamsterkufe german taken way hamster stuff cheek food\n",
      "Predicted Class:  Extremely Negative\n",
      "Actual Class:  Extremely Negative \n",
      "\n",
      "Tweet:  covid went grocery store turn cleaning supply bought fear coronavirus daughter substitute teacher showed class make hand sanitizer need buy alcohol wish luck store\n",
      "Predicted Class:  Extremely Positive\n",
      "Actual Class:  Extremely Positive \n",
      "\n",
      "Tweet:  busy watching election return bracing covid outbreak trump nominated chemicalindustry lobbyist head consumer product safety commission\n",
      "Predicted Class:  Positive\n",
      "Actual Class:  Positive \n",
      "\n",
      "Tweet:  airsewa flyspicejet providing webchecin customer free seat passenger forced choose paid seat free seat made available airport counter stopped discriminatory traveller right hardeepspuri mocagoi\n",
      "Predicted Class:  Negative\n",
      "Actual Class:  Extremely Negative \n",
      "\n",
      "Tweet:  precautionary measure taken respective restaurant hotel comment covid coronavirus covid hotel chain enforce precautionary measure issue safety hygiene advisory\n",
      "Predicted Class:  Extremely Positive\n",
      "Actual Class:  Extremely Positive \n",
      "\n",
      "Tweet:  youre stockpiling food amp supply buy extra local food bank many family dont luxury spend beyond weekly budget dailybreadto coronavirus\n",
      "Predicted Class:  Neutral\n",
      "Actual Class:  Neutral \n",
      "\n",
      "Tweet:  thats week bit optimistic probably take another month supply chain may recovering demand chain nonexistent u europe next month two spx qqq e nq\n",
      "Predicted Class:  Positive\n",
      "Actual Class:  Positive \n",
      "\n",
      "Tweet:  study show coronavirus like covid live nine day hard surface like metal plastic glass deputy commissioner consumer affair mary barzee flores show keep clean gas pump watch share\n",
      "Predicted Class:  Extremely Positive\n",
      "Actual Class:  Extremely Positive \n",
      "\n"
     ]
    }
   ],
   "source": [
    "for i in range(len(predicted_class_names)):\n",
    "    print('Tweet: ', test_df['Final_Tweet'][i])\n",
    "    print('Predicted Class: ', predicted_class_names[i])\n",
    "    print('Actual Class: ', test_df['Sentiment'][i], '\\n')"
   ]
  },
  {
   "cell_type": "code",
   "execution_count": null,
   "id": "5334b7ba-5c85-4459-a837-e8d3bae6c4ea",
   "metadata": {},
   "outputs": [],
   "source": []
  }
 ],
 "metadata": {
  "colab": {
   "provenance": []
  },
  "kernelspec": {
   "display_name": "Python 3 (ipykernel)",
   "language": "python",
   "name": "python3"
  },
  "language_info": {
   "codemirror_mode": {
    "name": "ipython",
    "version": 3
   },
   "file_extension": ".py",
   "mimetype": "text/x-python",
   "name": "python",
   "nbconvert_exporter": "python",
   "pygments_lexer": "ipython3",
   "version": "3.11.7"
  }
 },
 "nbformat": 4,
 "nbformat_minor": 5
}
